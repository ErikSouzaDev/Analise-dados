{
 "cells": [
  {
   "cell_type": "markdown",
   "metadata": {},
   "source": [
    "# Python Insights - Analisando Dados com Python\n",
    "\n",
    "### Case - Cancelamento de Clientes\n",
    "\n",
    "Você foi contratado por uma empresa com mais de 800 mil clientes para um projeto de Dados. Recentemente a empresa percebeu que da sua base total de clientes, a maioria são clientes inativos, ou seja, que já cancelaram o serviço.\n",
    "\n",
    "Precisando melhorar seus resultados ela quer conseguir entender os principais motivos desses cancelamentos e quais as ações mais eficientes para reduzir esse número.\n",
    "\n",
    "Base de dados e arquivos: https://drive.google.com/drive/folders/1uDesZePdkhiraJmiyeZ-w5tfc8XsNYFZ?usp=drive_link"
   ]
  },
  {
   "cell_type": "code",
   "execution_count": null,
   "metadata": {},
   "outputs": [],
   "source": [
    "#Passo 1: Importar a base de dados\n",
    "import pandas as pd\n",
    "\n",
    "tabela = pd.read_csv('cancelamentos.csv')\n",
    "display(tabela)"
   ]
  },
  {
   "cell_type": "code",
   "execution_count": null,
   "metadata": {},
   "outputs": [],
   "source": [
    "#Passo 2: Analisar e tratar a base de dados\n",
    "tabela = tabela.drop(columns='CustomerID')\n",
    "tabela = tabela.dropna()\n",
    "display(tabela.info())\n"
   ]
  },
  {
   "cell_type": "code",
   "execution_count": null,
   "metadata": {},
   "outputs": [],
   "source": [
    "#Passo 3: Aplicar filtros para verificar o cancelamento\n",
    "display(tabela['cancelou'].value_counts())\n",
    "display(tabela['cancelou'].value_counts(normalize=True))"
   ]
  },
  {
   "cell_type": "code",
   "execution_count": null,
   "metadata": {},
   "outputs": [],
   "source": [
    "#Passo 4: Verificar em graficos \n",
    "import plotly.express as px\n",
    "for coluna in tabela:\n",
    "    grafico = px.histogram(tabela, x= coluna, color='cancelou',text_auto=True)\n",
    "    grafico.show()"
   ]
  },
  {
   "cell_type": "code",
   "execution_count": null,
   "metadata": {},
   "outputs": [],
   "source": [
    "#Passo 5: Procurar maiores falhas e aplicar filtro para resolver\n",
    "\n",
    " #Todos os contratos MENSAIS cancelaram\n",
    "tabela = tabela[tabela['duracao_contrato']!= 'Monthly']\n",
    " #Todos que atrasaram mais de 20 dias cancelaram\n",
    "tabela = tabela[tabela['dias_atraso']<=20]\n",
    " #Todos que gastaram menos que 500 cancelaram\n",
    "tabela = tabela[tabela['total_gasto']>=500]\n",
    " #Todos que ligaram mais que 5 vezes cancelaram\n",
    "tabela = tabela[tabela['ligacoes_callcenter']<=5]\n",
    "\n",
    "display(tabela['cancelou'].value_counts(normalize=True).map('{:.1%}'.format))\n",
    "#Apos resolver alguns problemas, é verificado que conseguimos diminuir drasticamente o numero de cancelamentos\n",
    "#Feito por: Erik Souza"
   ]
  }
 ],
 "metadata": {
  "kernelspec": {
   "display_name": "Python 3",
   "language": "python",
   "name": "python3"
  },
  "language_info": {
   "codemirror_mode": {
    "name": "ipython",
    "version": 3
   },
   "file_extension": ".py",
   "mimetype": "text/x-python",
   "name": "python",
   "nbconvert_exporter": "python",
   "pygments_lexer": "ipython3",
   "version": "3.12.6"
  },
  "orig_nbformat": 4
 },
 "nbformat": 4,
 "nbformat_minor": 2
}
